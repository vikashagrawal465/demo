{
  "nbformat": 4,
  "nbformat_minor": 0,
  "metadata": {
    "colab": {
      "provenance": []
    },
    "kernelspec": {
      "name": "python3",
      "display_name": "Python 3"
    },
    "language_info": {
      "name": "python"
    }
  },
  "cells": [
    {
      "cell_type": "code",
      "execution_count": null,
      "metadata": {
        "id": "Sd2MODxMvURW"
      },
      "outputs": [],
      "source": []
    },
    {
      "cell_type": "markdown",
      "source": [
        "# 1.What are the two values of the Boolean data type? How do you write them?\n",
        "\n",
        "## Ans-"
      ],
      "metadata": {
        "id": "JR9RseKGzsGF"
      }
    },
    {
      "cell_type": "markdown",
      "source": [
        "## There are two values have Boolean data type – True and False. In this data type we check the condition that it is true or false and it is represented by bool()  \n",
        "  For example:-  a = true >> type(a) = bool\n"
      ],
      "metadata": {
        "id": "b1j-EGZAzyvz"
      }
    },
    {
      "cell_type": "code",
      "source": [
        "a = True\n",
        "b = False\n",
        "print(a)\n",
        "print(b)"
      ],
      "metadata": {
        "colab": {
          "base_uri": "https://localhost:8080/"
        },
        "id": "z4kANydCz3aL",
        "outputId": "037854d6-a620-42ab-d8dd-fb76112c1c9e"
      },
      "execution_count": 2,
      "outputs": [
        {
          "output_type": "stream",
          "name": "stdout",
          "text": [
            "True\n",
            "False\n"
          ]
        }
      ]
    },
    {
      "cell_type": "markdown",
      "source": [
        "# 2.What are the three different types of Boolean operators?\n",
        "\n",
        "## Ans- The three basic boolean operators are: AND, OR, and NOT."
      ],
      "metadata": {
        "id": "WVhHP4pV0IOa"
      }
    },
    {
      "cell_type": "code",
      "source": [],
      "metadata": {
        "id": "FV7SAEMa0dSX"
      },
      "execution_count": null,
      "outputs": []
    },
    {
      "cell_type": "markdown",
      "source": [
        "# 3. Make a list of each Boolean operator's truth tables (i.e. every possible combination of Boolean values for the operator and what it evaluate ).\n",
        "\n",
        "## Ans- \n",
        "\n",
        "    boolean value |  boolean operator   |   result\n",
        "    \n",
        "    True and True  is True\n",
        "    True and False is False\n",
        "    False and True is False\n",
        "    False and False is False\n",
        "\n",
        "\n",
        "---\n",
        "    True or True is True \n",
        "    True or False is True\n",
        "    False or True is True\n",
        "    False or False is False\n",
        "\n",
        "\n",
        "\n",
        "---\n",
        "    not True is False\n",
        "    not False is True\n",
        "\n",
        "\n",
        "\n",
        "---\n",
        "\n",
        "    **True is 1 and False is 0**\n",
        "    Truth Table for AND\n",
        "    A B output\n",
        "    0 0 0\n",
        "    0 1 0\n",
        "    1 0 0\n",
        "    1 1 1\n",
        "    Truth Table for OR\n",
        "    A B output\n",
        "    0 0 0\n",
        "    0 1 1\n",
        "    1 0 1\n",
        "    1 1 1\n",
        "    Truth Table for NOT\n",
        "    A output\n",
        "    0 1\n",
        "    1 0\n",
        "\n",
        "\n",
        "\n",
        "\n",
        "\n",
        "\n",
        "\n"
      ],
      "metadata": {
        "id": "4zzhIXYS0ha1"
      }
    },
    {
      "cell_type": "code",
      "source": [],
      "metadata": {
        "id": "r15liNaL2Zzv"
      },
      "execution_count": null,
      "outputs": []
    },
    {
      "cell_type": "markdown",
      "source": [
        "#4. What are the values of the following expressions?\n",
        "    (5 > 4) and (3 == 5)\n",
        "    not (5 > 4)\n",
        "    (5 > 4) or (3 == 5)\n",
        "    not ((5 > 4) or (3 == 5))\n",
        "    (True and True) and (True == False)\n",
        "    (not False) or (not True)\n",
        "\n",
        "## Ans- \n",
        "        False\n",
        "        False\n",
        "        True\n",
        "        False\n",
        "        False\n",
        "        True"
      ],
      "metadata": {
        "id": "M9di4F8j2hlT"
      }
    },
    {
      "cell_type": "markdown",
      "source": [
        "# 5. What are the six comparison operators?\n",
        "\n",
        "## Ans-\n",
        "    less than ( < ),\n",
        "    less than or equal to ( <= ), \n",
        "    greater than ( > ), \n",
        "    greater than or equal to ( >= ), \n",
        "    equal to ( == ), \n",
        "    and not equal to ( != )"
      ],
      "metadata": {
        "id": "fFq-kDt736Ts"
      }
    },
    {
      "cell_type": "markdown",
      "source": [
        "# 6. How do you tell the difference between the equal to and assignment operators?Describe a condition and when you would use one.\n",
        "\n",
        "## Ans- \n",
        "The Assignment opertaors is represent by = and equal operator is represented by ==.\n",
        "\n",
        " The assignment operator is used to assign the value and the equal operators are used to checks whether the two given operands are equal or not."
      ],
      "metadata": {
        "id": "X69LW6Tv45ck"
      }
    },
    {
      "cell_type": "code",
      "source": [
        "a = 10\n",
        "b = 20\n",
        "# here = is assignment opertaors which means that we assign a value 10 for varibale a and 20 for variable b\n",
        "\n",
        "a==b"
      ],
      "metadata": {
        "colab": {
          "base_uri": "https://localhost:8080/"
        },
        "id": "3TcyiuBY489-",
        "outputId": "c6e327ed-7167-465e-d189-da2931f2b312"
      },
      "execution_count": 9,
      "outputs": [
        {
          "output_type": "execute_result",
          "data": {
            "text/plain": [
              "False"
            ]
          },
          "metadata": {},
          "execution_count": 9
        }
      ]
    },
    {
      "cell_type": "markdown",
      "source": [
        "# here a==b is equal opertaor which means we check the value of a and b are equals or not."
      ],
      "metadata": {
        "id": "fFEyJlcv6ywj"
      }
    },
    {
      "cell_type": "markdown",
      "source": [
        "# 7. Identify the three blocks in this code:"
      ],
      "metadata": {
        "id": "631aEBTp7Fux"
      }
    },
    {
      "cell_type": "code",
      "source": [
        "spam = 0\n",
        "if spam == 10:\n",
        "  print('eggs')  # block 1\n",
        "\n",
        "if spam > 5:\n",
        "  print('bacon') # block 2\n",
        "\n",
        "else:\n",
        "  print('ham')  # block 3\n",
        "  print('spam')\n",
        "  print('spam')\n"
      ],
      "metadata": {
        "colab": {
          "base_uri": "https://localhost:8080/"
        },
        "id": "2vxwmHiR7Os-",
        "outputId": "e85aad59-d18a-4c78-e6af-e8e5425b279e"
      },
      "execution_count": 12,
      "outputs": [
        {
          "output_type": "stream",
          "name": "stdout",
          "text": [
            "ham\n",
            "spam\n",
            "spam\n"
          ]
        }
      ]
    },
    {
      "cell_type": "markdown",
      "source": [
        "# 8. Write code that prints Hello if 1 is stored in spam, prints Howdy if 2 is stored in spam, and prints Greetings! if anything else is stored in spam.\n",
        "\n",
        "## Ans-"
      ],
      "metadata": {
        "id": "qJA2Si3b7zWb"
      }
    },
    {
      "cell_type": "code",
      "source": [
        "spam = int(input(\"Enter a no. \"))\n",
        "\n",
        "if spam==1:\n",
        "  print(\"Hello\")\n",
        "\n",
        "if spam == 2:\n",
        "  print(\"Howdy\")\n",
        "\n",
        "else:\n",
        "  print(\"Greetings!\")"
      ],
      "metadata": {
        "colab": {
          "base_uri": "https://localhost:8080/"
        },
        "id": "fvn4tZBE79y_",
        "outputId": "1a429bf8-3575-40d8-b4f8-7f2c76f881f4"
      },
      "execution_count": 14,
      "outputs": [
        {
          "output_type": "stream",
          "name": "stdout",
          "text": [
            "Enter a no. 1\n",
            "Hello\n",
            "Greetings!\n"
          ]
        }
      ]
    },
    {
      "cell_type": "code",
      "source": [
        "spam = int(input(\"Enter a no. \"))\n",
        "\n",
        "if spam==1:\n",
        "  print(\"Hello\")\n",
        "\n",
        "if spam == 2:\n",
        "  print(\"Howdy\")\n",
        "\n",
        "else:\n",
        "  print(\"Greetings!\")"
      ],
      "metadata": {
        "colab": {
          "base_uri": "https://localhost:8080/"
        },
        "id": "NNXJ56Cb8dje",
        "outputId": "9b254ea1-f574-48c6-9941-a86985d73d72"
      },
      "execution_count": 15,
      "outputs": [
        {
          "output_type": "stream",
          "name": "stdout",
          "text": [
            "Enter a no. 3\n",
            "Greetings!\n"
          ]
        }
      ]
    },
    {
      "cell_type": "markdown",
      "source": [
        "# 9.If your programme is stuck in an endless loop, what keys you’ll press?\n",
        "\n",
        "## Ans- If program is stuck in endless loop we will press ctrl+c.\n"
      ],
      "metadata": {
        "id": "k_x234If8xEN"
      }
    },
    {
      "cell_type": "markdown",
      "source": [
        "# 10. How can you tell the difference between break and continue?\n",
        "\n",
        "## Ans- The main difference between both the statements is that when break keyword comes, it terminates the execution of the current loop and passes the control over the next loop or main body, whereas when continue keyword is encountered, it skips the current iteration and executes the very next iteration in the loop\n",
        "\n",
        "Example"
      ],
      "metadata": {
        "id": "UeWGcK2R9bj7"
      }
    },
    {
      "cell_type": "code",
      "source": [
        "for i in range(0,10):\n",
        "  if i==6:\n",
        "    break\n",
        "  print(i)\n",
        " "
      ],
      "metadata": {
        "colab": {
          "base_uri": "https://localhost:8080/"
        },
        "id": "p4DgMKWy-COi",
        "outputId": "7ddfd5f8-ffd2-44e3-e01e-303a4242e7a2"
      },
      "execution_count": 17,
      "outputs": [
        {
          "output_type": "stream",
          "name": "stdout",
          "text": [
            "0\n",
            "1\n",
            "2\n",
            "3\n",
            "4\n",
            "5\n"
          ]
        }
      ]
    },
    {
      "cell_type": "markdown",
      "source": [
        "### here break keyword stop the loop when i==6 and print only 0 to 5"
      ],
      "metadata": {
        "id": "HJ8_vasQ-nVq"
      }
    },
    {
      "cell_type": "code",
      "source": [
        "for i in range(0,10):\n",
        "  if i==6:\n",
        "    continue\n",
        "  print(i)\n",
        " "
      ],
      "metadata": {
        "colab": {
          "base_uri": "https://localhost:8080/"
        },
        "id": "loClbUBi-eJI",
        "outputId": "6bec40bb-1d5f-41db-c55d-8e5afc0ff133"
      },
      "execution_count": 18,
      "outputs": [
        {
          "output_type": "stream",
          "name": "stdout",
          "text": [
            "0\n",
            "1\n",
            "2\n",
            "3\n",
            "4\n",
            "5\n",
            "7\n",
            "8\n",
            "9\n"
          ]
        }
      ]
    },
    {
      "cell_type": "markdown",
      "source": [
        "### here continue keyword skip the 6 and executes next iteration in the loop"
      ],
      "metadata": {
        "id": "S02d1d8N-_VB"
      }
    },
    {
      "cell_type": "markdown",
      "source": [
        "# 11. In a for loop, what is the difference between range(10), range(0, 10), and range(0, 10, 1)?\n",
        "\n",
        "\n",
        "## Ans- "
      ],
      "metadata": {
        "id": "CYHwMIIc_Z6y"
      }
    },
    {
      "cell_type": "code",
      "source": [
        "for i in range(10):\n",
        "  print(i)"
      ],
      "metadata": {
        "colab": {
          "base_uri": "https://localhost:8080/"
        },
        "id": "tt7pU_wJ_0vQ",
        "outputId": "2a2091c3-0f18-4066-d0b6-5d0c0a40cdc2"
      },
      "execution_count": 20,
      "outputs": [
        {
          "output_type": "stream",
          "name": "stdout",
          "text": [
            "0\n",
            "1\n",
            "2\n",
            "3\n",
            "4\n",
            "5\n",
            "6\n",
            "7\n",
            "8\n",
            "9\n"
          ]
        }
      ]
    },
    {
      "cell_type": "code",
      "source": [
        "for i in range(0,10):\n",
        "  print(i)"
      ],
      "metadata": {
        "colab": {
          "base_uri": "https://localhost:8080/"
        },
        "id": "9-lzGGFh_4FK",
        "outputId": "e703d5df-94dc-4d4f-d190-d0cd9fddd86d"
      },
      "execution_count": 21,
      "outputs": [
        {
          "output_type": "stream",
          "name": "stdout",
          "text": [
            "0\n",
            "1\n",
            "2\n",
            "3\n",
            "4\n",
            "5\n",
            "6\n",
            "7\n",
            "8\n",
            "9\n"
          ]
        }
      ]
    },
    {
      "cell_type": "code",
      "source": [
        "for i in range(0,10,1):\n",
        "  print(i)"
      ],
      "metadata": {
        "colab": {
          "base_uri": "https://localhost:8080/"
        },
        "id": "gvZX-5LXAXjr",
        "outputId": "c63e8679-db0d-459f-8299-48fc25b5984a"
      },
      "execution_count": 24,
      "outputs": [
        {
          "output_type": "stream",
          "name": "stdout",
          "text": [
            "0\n",
            "1\n",
            "2\n",
            "3\n",
            "4\n",
            "5\n",
            "6\n",
            "7\n",
            "8\n",
            "9\n"
          ]
        }
      ]
    },
    {
      "cell_type": "code",
      "source": [],
      "metadata": {
        "id": "QOqfotkaAbxY"
      },
      "execution_count": null,
      "outputs": []
    },
    {
      "cell_type": "markdown",
      "source": [
        "## we can see from output that they do perform same thnigs. the diffrence is range(10) in for loop that it is start range from 0 but last not include 10 in this it will automatically start from 0.\n",
        "\n",
        "range(0, 10) in for loop there are two data in which first data indicate that which position loop start and last data (not include last) which position loop end.\n",
        "\n",
        "range(0,10,1) in for loop there are three data in which first data indicate that which position loop start and second data tells (not include last) which position loop end and last data tells the position that means how many gap will covered."
      ],
      "metadata": {
        "id": "DHumaj-GApJC"
      }
    },
    {
      "cell_type": "markdown",
      "source": [
        "# 12. Write a short program that prints the numbers 1 to 10 using a for loop. Then write an equivalent program that prints the numbers 1 to 10 using a while loop.\n",
        "\n",
        "## Ans-"
      ],
      "metadata": {
        "id": "Uc2kjk4oCtWD"
      }
    },
    {
      "cell_type": "code",
      "source": [
        "#for loop\n",
        "for i in range(1,11):\n",
        "  print(i)"
      ],
      "metadata": {
        "colab": {
          "base_uri": "https://localhost:8080/"
        },
        "id": "wZcG87-ICn9f",
        "outputId": "d343fd36-d887-4c9c-8868-bdde6852b91d"
      },
      "execution_count": 25,
      "outputs": [
        {
          "output_type": "stream",
          "name": "stdout",
          "text": [
            "1\n",
            "2\n",
            "3\n",
            "4\n",
            "5\n",
            "6\n",
            "7\n",
            "8\n",
            "9\n",
            "10\n"
          ]
        }
      ]
    },
    {
      "cell_type": "code",
      "source": [
        "# while loop\n",
        "a = 1\n",
        "\n",
        "while a<=10:\n",
        "  \n",
        "  print(a)\n",
        "  a= a+1\n"
      ],
      "metadata": {
        "colab": {
          "base_uri": "https://localhost:8080/"
        },
        "id": "0aMtX-daC-Az",
        "outputId": "7f003a67-b3a7-4dc2-d539-418489c2126b"
      },
      "execution_count": 32,
      "outputs": [
        {
          "output_type": "stream",
          "name": "stdout",
          "text": [
            "1\n",
            "2\n",
            "3\n",
            "4\n",
            "5\n",
            "6\n",
            "7\n",
            "8\n",
            "9\n",
            "10\n"
          ]
        }
      ]
    },
    {
      "cell_type": "code",
      "source": [],
      "metadata": {
        "id": "FJqz_xocDY-A"
      },
      "execution_count": null,
      "outputs": []
    },
    {
      "cell_type": "markdown",
      "source": [
        "# 13. If you had a function named bacon() inside a module named spam, how would you call it after importing spam?\n",
        "\n",
        "## Ans- This function can be called with spam.bacon()."
      ],
      "metadata": {
        "id": "KXpur_VaECDh"
      }
    },
    {
      "cell_type": "code",
      "source": [
        "def bacon(spam):\n",
        "  return 55"
      ],
      "metadata": {
        "id": "MtFgwqlfEVoy"
      },
      "execution_count": 42,
      "outputs": []
    },
    {
      "cell_type": "markdown",
      "source": [],
      "metadata": {
        "id": "TTw_SINPECCZ"
      }
    }
  ]
}