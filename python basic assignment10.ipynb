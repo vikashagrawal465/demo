{
 "cells": [
  {
   "attachments": {},
   "cell_type": "markdown",
   "metadata": {},
   "source": [
    "Q1. How do you distinguish between shutil.copy() and shutil.copytree()?"
   ]
  },
  {
   "attachments": {},
   "cell_type": "markdown",
   "metadata": {},
   "source": [
    "Ans1. - The shutil.copy() function will copy a single file, while shutil.copytree() will copy an entire folder, along with all its contents."
   ]
  },
  {
   "attachments": {},
   "cell_type": "markdown",
   "metadata": {},
   "source": [
    "Q2. What function is used to rename files??"
   ]
  },
  {
   "attachments": {},
   "cell_type": "markdown",
   "metadata": {},
   "source": [
    "Ans.2 - import os\n",
    "\n",
    "        os.rename() function is used to rename a file or directory."
   ]
  },
  {
   "cell_type": "markdown",
   "metadata": {},
   "source": []
  },
  {
   "attachments": {},
   "cell_type": "markdown",
   "metadata": {},
   "source": [
    "Q3. What is the difference between the delete functions in the send2trash and shutil modules?"
   ]
  },
  {
   "attachments": {},
   "cell_type": "markdown",
   "metadata": {},
   "source": [
    "Ans3. - shutil.rmtree() function delete the file or folder permanently. The operation can not be undone if there were any accidental deletion performed.\n",
    "\n",
    "while send2trash() function send to the file in trash or recycle bin instead of permanently deleting them. If the directory contains files or other folders, those are also deleted. A TrashPermissionError exception is raised, in case a file could not be deleted due to permission error or any other unexpected reason."
   ]
  },
  {
   "attachments": {},
   "cell_type": "markdown",
   "metadata": {},
   "source": [
    "Q4.ZipFile objects have a close() method just like File objects’ close() method. What ZipFile method is equivalent to File objects’ open() method?"
   ]
  },
  {
   "attachments": {},
   "cell_type": "markdown",
   "metadata": {},
   "source": [
    "Ans4. -from zipfile import Zipfile\n",
    "with ZipFile(file_name, 'r') as zip: this function is equivalent to the open() function, we can open the ZIP file in any(read, write or append) mode and perform other operation."
   ]
  },
  {
   "attachments": {},
   "cell_type": "markdown",
   "metadata": {},
   "source": [
    "Q5. Create a programme that searches a folder tree for files with a certain file extension (such as .pdf or .jpg). Copy these files from whatever location they are in to a new folder."
   ]
  },
  {
   "attachments": {},
   "cell_type": "markdown",
   "metadata": {},
   "source": [
    "Ans.5 - "
   ]
  },
  {
   "cell_type": "code",
   "execution_count": 7,
   "metadata": {},
   "outputs": [
    {
     "name": "stdout",
     "output_type": "stream",
     "text": [
      "looking in C:\\Users\\agraw\\Documents for files with extension of .mp4, .pdf, .jpg\n",
      "copying C:\\Users\\agraw\\Documents\\RAdv_59_2022.pdf to C:\\Users\\agraw\\Contacts\n",
      "copying C:\\Users\\agraw\\Documents\\RAdv_60_2022.pdf to C:\\Users\\agraw\\Contacts\n"
     ]
    }
   ],
   "source": [
    "import os, shutil\n",
    "\n",
    "def selectcopy(source, extensions, destination):\n",
    "    folder = os.path.abspath(source)\n",
    "    destination = os.path.abspath(destination)\n",
    "    print('looking in', source, 'for files with extension of', ', '.join(extensions))\n",
    "\n",
    "    for foldername, subfolders, filenames in os.walk(source):\n",
    "        for filename in filenames:\n",
    "            name, extension = os.path.splitext(filename)\n",
    "            if extension in extensions:\n",
    "                fileAbspath = foldername +os.path.sep +filename\n",
    "                print('copying', fileAbspath, 'to', destination)\n",
    "                shutil.copy(fileAbspath, destination)\n",
    "\n",
    "\n",
    "extensions = ['.mp4', '.pdf', '.jpg']\n",
    "\n",
    "source = \"C:\\\\Users\\\\agraw\\\\Documents\"\n",
    "destination = \"C:\\\\Users\\\\agraw\\\\Contacts\"\n",
    "selectcopy(source, extensions, destination)"
   ]
  },
  {
   "cell_type": "code",
   "execution_count": null,
   "metadata": {},
   "outputs": [],
   "source": []
  }
 ],
 "metadata": {
  "kernelspec": {
   "display_name": "base",
   "language": "python",
   "name": "python3"
  },
  "language_info": {
   "codemirror_mode": {
    "name": "ipython",
    "version": 3
   },
   "file_extension": ".py",
   "mimetype": "text/x-python",
   "name": "python",
   "nbconvert_exporter": "python",
   "pygments_lexer": "ipython3",
   "version": "3.9.12 (main, Apr  4 2022, 05:22:27) [MSC v.1916 64 bit (AMD64)]"
  },
  "orig_nbformat": 4,
  "vscode": {
   "interpreter": {
    "hash": "af79917f6093fffae643ecfd291a66ebe68677a91178bb448d0312a39a22d008"
   }
  }
 },
 "nbformat": 4,
 "nbformat_minor": 2
}
