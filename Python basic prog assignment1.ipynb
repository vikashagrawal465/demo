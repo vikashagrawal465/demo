{
 "cells": [
  {
   "attachments": {},
   "cell_type": "markdown",
   "metadata": {},
   "source": [
    "Q1. Write a Python program to print \"Hello Python\"?\n",
    "Ans1. -"
   ]
  },
  {
   "cell_type": "code",
   "execution_count": 1,
   "metadata": {},
   "outputs": [
    {
     "name": "stdout",
     "output_type": "stream",
     "text": [
      "Hello Python\n"
     ]
    }
   ],
   "source": [
    "print(\"Hello Python\")"
   ]
  },
  {
   "attachments": {},
   "cell_type": "markdown",
   "metadata": {},
   "source": [
    "Q2. Write a Python program to do arithmetical operations addition and division.?\n",
    "Ans2. - "
   ]
  },
  {
   "cell_type": "code",
   "execution_count": 10,
   "metadata": {},
   "outputs": [
    {
     "name": "stdout",
     "output_type": "stream",
     "text": [
      "addition of : 3 and 5 is : 8\n",
      "division of : 3 and 5 is : 0.6\n"
     ]
    }
   ],
   "source": [
    "a = int(input(\"enter a number\"))\n",
    "b = int(input(\"enter a number\"))\n",
    "\n",
    "\n",
    "add = a+b\n",
    "print(f'addition of : {a} and {b} is :', add)\n",
    "\n",
    "div = a/b\n",
    "print(f'division of : {a} and {b} is :', div)"
   ]
  },
  {
   "attachments": {},
   "cell_type": "markdown",
   "metadata": {},
   "source": [
    "Q3. Write a Python program to find the area of a triangle?\n",
    "\n",
    "Ans.3 - "
   ]
  },
  {
   "cell_type": "code",
   "execution_count": 20,
   "metadata": {},
   "outputs": [
    {
     "name": "stdout",
     "output_type": "stream",
     "text": [
      "base =5  height=  6\n",
      "area= 15.0\n"
     ]
    }
   ],
   "source": [
    "#area of triangle  = 1/2xBasexheight\n",
    "\n",
    "b = int(input(\"Enter the base:\"))\n",
    "h = int(input(\"Enter the height\"))\n",
    "print(f\"base ={b}  height= \",h)\n",
    "\n",
    "area = b*h/2\n",
    "\n",
    "print(\"area=\", area)"
   ]
  },
  {
   "attachments": {},
   "cell_type": "markdown",
   "metadata": {},
   "source": [
    "Q4. Write a Python program to swap two variables?\n",
    "Ans.4 - "
   ]
  },
  {
   "cell_type": "code",
   "execution_count": 23,
   "metadata": {},
   "outputs": [
    {
     "name": "stdout",
     "output_type": "stream",
     "text": [
      "Before swap a = 20 and b = 30\n",
      "after swap a = 30 and b = 20\n"
     ]
    }
   ],
   "source": [
    "# swapping of two variables.\n",
    "a = int(input(\"enter a number\"))\n",
    "b = int(input(\"enter a number\"))\n",
    "\n",
    "print(f\"Before swap a = {a} and b = {b}\")\n",
    "\n",
    "a,b = b,a\n",
    "print(f\"after swap a = {a} and b = {b}\")\n"
   ]
  },
  {
   "cell_type": "code",
   "execution_count": 24,
   "metadata": {},
   "outputs": [
    {
     "name": "stdout",
     "output_type": "stream",
     "text": [
      "Before swap a = 35 and b = 45\n",
      "after swap a = 45 and b = 35\n"
     ]
    }
   ],
   "source": [
    "# other method for swap\n",
    "a = int(input(\"enter a number\"))\n",
    "b = int(input(\"enter a number\"))\n",
    "\n",
    "print(f\"Before swap a = {a} and b = {b}\")\n",
    "\n",
    "temp = a\n",
    "a = b\n",
    "b = temp\n",
    "print(f\"after swap a = {a} and b = {b}\")\n"
   ]
  },
  {
   "attachments": {},
   "cell_type": "markdown",
   "metadata": {},
   "source": [
    "Q5. Write a Python program to generate a random number?\n",
    "\n",
    "Ans.5 -"
   ]
  },
  {
   "cell_type": "code",
   "execution_count": 28,
   "metadata": {},
   "outputs": [
    {
     "name": "stdout",
     "output_type": "stream",
     "text": [
      "0.17804114721728448\n",
      "3\n"
     ]
    }
   ],
   "source": [
    "# for generate a random number import random module\n",
    "\n",
    "import random\n",
    "print(random.random())\n",
    "\n",
    "print(random.randrange(0,10))"
   ]
  },
  {
   "cell_type": "code",
   "execution_count": 27,
   "metadata": {},
   "outputs": [
    {
     "name": "stdout",
     "output_type": "stream",
     "text": [
      "6\n"
     ]
    }
   ],
   "source": [
    "import random\n",
    "l = [1,3,4,6,7,9]\n",
    "print(random.choice(l))"
   ]
  },
  {
   "cell_type": "code",
   "execution_count": null,
   "metadata": {},
   "outputs": [],
   "source": []
  }
 ],
 "metadata": {
  "kernelspec": {
   "display_name": "base",
   "language": "python",
   "name": "python3"
  },
  "language_info": {
   "codemirror_mode": {
    "name": "ipython",
    "version": 3
   },
   "file_extension": ".py",
   "mimetype": "text/x-python",
   "name": "python",
   "nbconvert_exporter": "python",
   "pygments_lexer": "ipython3",
   "version": "3.9.12 (main, Apr  4 2022, 05:22:27) [MSC v.1916 64 bit (AMD64)]"
  },
  "orig_nbformat": 4,
  "vscode": {
   "interpreter": {
    "hash": "af79917f6093fffae643ecfd291a66ebe68677a91178bb448d0312a39a22d008"
   }
  }
 },
 "nbformat": 4,
 "nbformat_minor": 2
}
