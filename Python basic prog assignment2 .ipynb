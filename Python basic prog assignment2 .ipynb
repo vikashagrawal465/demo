{
 "cells": [
  {
   "attachments": {},
   "cell_type": "markdown",
   "metadata": {},
   "source": [
    "Q1. Write a Python program to convert kilometers to miles?\n",
    "\n",
    "Ans.1 - "
   ]
  },
  {
   "cell_type": "code",
   "execution_count": 5,
   "metadata": {},
   "outputs": [
    {
     "name": "stdout",
     "output_type": "stream",
     "text": [
      "11.000 kilometer is equal to 6.835 miles \n"
     ]
    }
   ],
   "source": [
    "# Converting kilometers to miles\n",
    "# 1 kilometer equals to 0.62137 miles.\n",
    "\n",
    "km = float(input(\"Enter value in kilometer\"))\n",
    "# conversion factor\n",
    "cf = 0.62137\n",
    "\n",
    "miles = km*cf\n",
    "\n",
    "print(\"%0.3f kilometer is equal to %0.3f miles \" %(km, miles))"
   ]
  },
  {
   "attachments": {},
   "cell_type": "markdown",
   "metadata": {},
   "source": [
    "Q2. Write a Python program to convert Celsius to Fahrenheit?\n",
    "\n",
    "Ans.2 -"
   ]
  },
  {
   "cell_type": "code",
   "execution_count": 7,
   "metadata": {},
   "outputs": [
    {
     "name": "stdout",
     "output_type": "stream",
     "text": [
      "40.00 Celsius is equal to 104.00 Fahrenheit\n"
     ]
    }
   ],
   "source": [
    "#convert Celsius to Fahrenheit\n",
    "\n",
    "temp = float(input(\"Enter value in celsius\"))\n",
    "\n",
    "fahrenheit = (temp*1.8)+32\n",
    "\n",
    "print(\"%.2f Celsius is equal to %.2f Fahrenheit\" %(temp, fahrenheit))"
   ]
  },
  {
   "attachments": {},
   "cell_type": "markdown",
   "metadata": {},
   "source": [
    "Q3. Write a Python program to display calendar?\n",
    "\n",
    "Ans.3 -"
   ]
  },
  {
   "cell_type": "code",
   "execution_count": 12,
   "metadata": {},
   "outputs": [
    {
     "name": "stdout",
     "output_type": "stream",
     "text": [
      "                                  2017\n",
      "\n",
      "      January                   February                   March\n",
      "Mo Tu We Th Fr Sa Su      Mo Tu We Th Fr Sa Su      Mo Tu We Th Fr Sa Su\n",
      "                   1             1  2  3  4  5             1  2  3  4  5\n",
      " 2  3  4  5  6  7  8       6  7  8  9 10 11 12       6  7  8  9 10 11 12\n",
      " 9 10 11 12 13 14 15      13 14 15 16 17 18 19      13 14 15 16 17 18 19\n",
      "16 17 18 19 20 21 22      20 21 22 23 24 25 26      20 21 22 23 24 25 26\n",
      "23 24 25 26 27 28 29      27 28                     27 28 29 30 31\n",
      "30 31\n",
      "\n",
      "       April                      May                       June\n",
      "Mo Tu We Th Fr Sa Su      Mo Tu We Th Fr Sa Su      Mo Tu We Th Fr Sa Su\n",
      "                1  2       1  2  3  4  5  6  7                1  2  3  4\n",
      " 3  4  5  6  7  8  9       8  9 10 11 12 13 14       5  6  7  8  9 10 11\n",
      "10 11 12 13 14 15 16      15 16 17 18 19 20 21      12 13 14 15 16 17 18\n",
      "17 18 19 20 21 22 23      22 23 24 25 26 27 28      19 20 21 22 23 24 25\n",
      "24 25 26 27 28 29 30      29 30 31                  26 27 28 29 30\n",
      "\n",
      "        July                     August                  September\n",
      "Mo Tu We Th Fr Sa Su      Mo Tu We Th Fr Sa Su      Mo Tu We Th Fr Sa Su\n",
      "                1  2          1  2  3  4  5  6                   1  2  3\n",
      " 3  4  5  6  7  8  9       7  8  9 10 11 12 13       4  5  6  7  8  9 10\n",
      "10 11 12 13 14 15 16      14 15 16 17 18 19 20      11 12 13 14 15 16 17\n",
      "17 18 19 20 21 22 23      21 22 23 24 25 26 27      18 19 20 21 22 23 24\n",
      "24 25 26 27 28 29 30      28 29 30 31               25 26 27 28 29 30\n",
      "31\n",
      "\n",
      "      October                   November                  December\n",
      "Mo Tu We Th Fr Sa Su      Mo Tu We Th Fr Sa Su      Mo Tu We Th Fr Sa Su\n",
      "                   1             1  2  3  4  5                   1  2  3\n",
      " 2  3  4  5  6  7  8       6  7  8  9 10 11 12       4  5  6  7  8  9 10\n",
      " 9 10 11 12 13 14 15      13 14 15 16 17 18 19      11 12 13 14 15 16 17\n",
      "16 17 18 19 20 21 22      20 21 22 23 24 25 26      18 19 20 21 22 23 24\n",
      "23 24 25 26 27 28 29      27 28 29 30               25 26 27 28 29 30 31\n",
      "30 31\n",
      "\n"
     ]
    }
   ],
   "source": [
    "import calendar\n",
    "\n",
    "yy = int(input(\"Enter the Year\"))\n",
    "\n",
    "print(calendar.calendar(yy))\n"
   ]
  },
  {
   "cell_type": "code",
   "execution_count": 18,
   "metadata": {},
   "outputs": [
    {
     "name": "stdout",
     "output_type": "stream",
     "text": [
      "     April 2017\n",
      "Mo Tu We Th Fr Sa Su\n",
      "                1  2\n",
      " 3  4  5  6  7  8  9\n",
      "10 11 12 13 14 15 16\n",
      "17 18 19 20 21 22 23\n",
      "24 25 26 27 28 29 30\n",
      "\n"
     ]
    }
   ],
   "source": [
    "import calendar\n",
    "\n",
    "yy = int(input(\"Enter the Year\"))\n",
    "\n",
    "mm = int(input(\"Enter the month\"))\n",
    "\n",
    "if 1<=mm<=12:\n",
    "    print(calendar.month(yy,mm))\n",
    "else:\n",
    "    print(\"invalid month\")\n",
    "\n"
   ]
  },
  {
   "attachments": {},
   "cell_type": "markdown",
   "metadata": {},
   "source": [
    "Q4. Write a Python program to solve quadratic equation?\n",
    "\n",
    "Ans.4 - The standard form of a quadratic equation is:\n",
    "\n",
    "ax*2 + bx + c = 0, where\n",
    "a, b and c are real numbers and\n",
    "a ≠ 0\n"
   ]
  },
  {
   "cell_type": "code",
   "execution_count": 24,
   "metadata": {},
   "outputs": [
    {
     "name": "stdout",
     "output_type": "stream",
     "text": [
      "a = 1.0, b = 5.0, c = 6.0\n",
      "The solution are (-3+0j) and (-2+0j)\n"
     ]
    }
   ],
   "source": [
    "#import complex module cmath\n",
    "\n",
    "import cmath\n",
    "\n",
    "a = float(input(\"enter a number\"))\n",
    "b = float(input(\"enter a number\"))\n",
    "c = float(input(\"enter a number\"))\n",
    "print(f\"a = {a}, b = {b}, c = {c}\")\n",
    "if a==0:\n",
    "    print(\" value  of a can not enter 0 please reenter\")\n",
    "else:\n",
    "    d = (b**2)-(4*a*c)\n",
    "\n",
    "# find two solution \n",
    "sol1 = (-b-cmath.sqrt(d))/(2*a)\n",
    "sol2 = (-b+cmath.sqrt(d))/(2*a)\n",
    "\n",
    "print(f'The solution are {sol1} and {sol2}')"
   ]
  },
  {
   "attachments": {},
   "cell_type": "markdown",
   "metadata": {},
   "source": [
    "Q5. Write a Python program to swap two variables without temp variable?\n",
    "\n",
    "Ans.5 -"
   ]
  },
  {
   "cell_type": "code",
   "execution_count": 25,
   "metadata": {},
   "outputs": [
    {
     "name": "stdout",
     "output_type": "stream",
     "text": [
      "Before swap a = 22 and b = 33\n",
      "after swap a = 33 and b = 22\n"
     ]
    }
   ],
   "source": [
    "# swapping of two variables without temp variable.\n",
    "a = int(input(\"enter a number\"))\n",
    "b = int(input(\"enter a number\"))\n",
    "\n",
    "print(f\"Before swap a = {a} and b = {b}\")\n",
    "\n",
    "a,b = b,a\n",
    "print(f\"after swap a = {a} and b = {b}\")"
   ]
  },
  {
   "cell_type": "code",
   "execution_count": 26,
   "metadata": {},
   "outputs": [
    {
     "name": "stdout",
     "output_type": "stream",
     "text": [
      "Before swap a = 40 and b = 50\n",
      "after swap a = 50 and b = 40\n"
     ]
    }
   ],
   "source": [
    "# swapping of two variables without temp variable.\n",
    "a = int(input(\"enter a number\"))\n",
    "b = int(input(\"enter a number\"))\n",
    "\n",
    "print(f\"Before swap a = {a} and b = {b}\")\n",
    "\n",
    "a = a+b\n",
    "b = a-b\n",
    "a = a-b\n",
    "\n",
    "print(f\"after swap a = {a} and b = {b}\")"
   ]
  },
  {
   "cell_type": "code",
   "execution_count": 28,
   "metadata": {},
   "outputs": [
    {
     "name": "stdout",
     "output_type": "stream",
     "text": [
      "Before swap a = 3.0 and b = 6.0\n",
      "after swap a = 6.0 and b = 3.0\n"
     ]
    }
   ],
   "source": [
    "# swapping of two variables without temp variable.\n",
    "a = float(input(\"enter a number\"))\n",
    "b = float(input(\"enter a number\"))\n",
    "\n",
    "print(f\"Before swap a = {a} and b = {b}\")\n",
    "\n",
    "a = a*b\n",
    "b = a/b\n",
    "a = a/b\n",
    "\n",
    "print(f\"after swap a = {a} and b = {b}\")"
   ]
  },
  {
   "cell_type": "markdown",
   "metadata": {},
   "source": []
  }
 ],
 "metadata": {
  "kernelspec": {
   "display_name": "base",
   "language": "python",
   "name": "python3"
  },
  "language_info": {
   "codemirror_mode": {
    "name": "ipython",
    "version": 3
   },
   "file_extension": ".py",
   "mimetype": "text/x-python",
   "name": "python",
   "nbconvert_exporter": "python",
   "pygments_lexer": "ipython3",
   "version": "3.9.12"
  },
  "orig_nbformat": 4,
  "vscode": {
   "interpreter": {
    "hash": "af79917f6093fffae643ecfd291a66ebe68677a91178bb448d0312a39a22d008"
   }
  }
 },
 "nbformat": 4,
 "nbformat_minor": 2
}
