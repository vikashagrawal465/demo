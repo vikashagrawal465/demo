{
 "cells": [
  {
   "attachments": {},
   "cell_type": "markdown",
   "metadata": {},
   "source": [
    "Q1. Write a Python Program to Find the Factorial of a Number?\n",
    "\n",
    "Ans.1 - "
   ]
  },
  {
   "cell_type": "code",
   "execution_count": null,
   "metadata": {},
   "outputs": [],
   "source": [
    "# Find the Factorial of a Number\n",
    "\n",
    "n = int(input(\"Enter a number\"))\n",
    "\n",
    "if n>=1:\n",
    "    i = 1\n",
    "    fact = 1\n",
    "\n",
    "    while i<=n:\n",
    "        fact = fact*i\n",
    "        i = i+1\n",
    "\n",
    "    print(f' factorial for the {n} is:',fact)\n",
    "else:\n",
    "    print(\"please enter a positive number greater then zero\")\n",
    "\n"
   ]
  },
  {
   "attachments": {},
   "cell_type": "markdown",
   "metadata": {},
   "source": [
    "Q2. Write a Python Program to Display the multiplication Table?\n",
    "\n",
    "Ans.2- "
   ]
  },
  {
   "cell_type": "code",
   "execution_count": null,
   "metadata": {},
   "outputs": [],
   "source": [
    "#program to Display the multiplication Table\n",
    "\n",
    "n =int(input(\"Enter a number\"))\n",
    "\n",
    "for i in range(1,11):\n",
    "\n",
    "        print(f' {n} X {i} =', n*i)"
   ]
  },
  {
   "attachments": {},
   "cell_type": "markdown",
   "metadata": {},
   "source": [
    "Q3. Write a Python Program to Print the Fibonacci sequence?\n",
    "\n",
    "Ans.3 -"
   ]
  },
  {
   "cell_type": "code",
   "execution_count": null,
   "metadata": {},
   "outputs": [],
   "source": [
    "# Print the Fibonacci sequence\n",
    "\n",
    "n = int(input(\"Enter a number\"))\n",
    "print(\"enter no for fibonacci series is\", n)\n",
    "\n",
    "n1 = 0\n",
    "n2 = 1\n",
    "sum =0\n",
    "\n",
    "if n<=0:\n",
    "    print(\"please enter the number greater than 0\")\n",
    "\n",
    "else:\n",
    "    for i in range(0, n):\n",
    "        print(sum, end= \" \")\n",
    "        n1 = n2\n",
    "        n2 = sum\n",
    "        sum = n1+n2"
   ]
  },
  {
   "attachments": {},
   "cell_type": "markdown",
   "metadata": {},
   "source": [
    "Q4. Write a Python Program to Check Armstrong Number?\n",
    "\n",
    "Ans.4- "
   ]
  },
  {
   "cell_type": "code",
   "execution_count": null,
   "metadata": {},
   "outputs": [],
   "source": [
    "# Checking the number is Armstrong number or not\n",
    "n = int(input(\"Enter a number \"))\n",
    "print(\"enter number is \", n)\n",
    "s = n\n",
    "b = len(str(n))\n",
    "sum = 0 \n",
    "\n",
    "while n!=0:\n",
    "    a = n%10\n",
    "    sum = sum + (a**b)\n",
    "    n = n//10\n",
    "\n",
    "if s == sum:\n",
    "    print(\"the given number\", s, \"is armstrong number\")\n",
    "else:\n",
    "    print(\"the given number\", s, \"is not armstrong number\")\n",
    "\n",
    "\n"
   ]
  },
  {
   "cell_type": "code",
   "execution_count": null,
   "metadata": {},
   "outputs": [],
   "source": [
    "# Checking the number is Armstrong number or not\n",
    "n = int(input(\"Enter a number \"))\n",
    "print(\"enter number is \", n)\n",
    "s = n\n",
    "b = len(str(n))\n",
    "sum = 0 \n",
    "\n",
    "while n!=0:\n",
    "    a = n%10\n",
    "    sum = sum + (a**b)\n",
    "    n = n//10\n",
    "\n",
    "if s == sum:\n",
    "    print(\"the given number\", s, \"is armstrong number\")\n",
    "else:\n",
    "    print(\"the given number\", s, \"is not armstrong number\")\n"
   ]
  },
  {
   "attachments": {},
   "cell_type": "markdown",
   "metadata": {},
   "source": [
    "Q5. Write a Python Program to Find Armstrong Number in an Interval?\n",
    "\n",
    "Ans.5 - "
   ]
  },
  {
   "cell_type": "code",
   "execution_count": null,
   "metadata": {},
   "outputs": [],
   "source": [
    "#checking Armstrong numbers in an  interval\n",
    "\n",
    "l = int(input(\"Enter a lower interval number \"))\n",
    "u = int(input(\"Enter a upper interval number \"))\n",
    "\n",
    "print(\"lower interval is :\", l, \"upeer interval is :\",u)\n",
    "\n",
    "\n",
    "for num in range(l, u+1):\n",
    "    b = len(str(num))\n",
    "    sum = 0 \n",
    "    s = num\n",
    "    while s>0:\n",
    "        a = s%10\n",
    "        sum = sum + (a**b)\n",
    "        s = s//10\n",
    "\n",
    "    if num == sum:\n",
    "        print(num)\n"
   ]
  },
  {
   "attachments": {},
   "cell_type": "markdown",
   "metadata": {},
   "source": [
    "Q6. Write a Python Program to Find the Sum of Natural Numbers?\n",
    "\n",
    "Ans.6 -"
   ]
  },
  {
   "cell_type": "code",
   "execution_count": 109,
   "metadata": {},
   "outputs": [
    {
     "name": "stdout",
     "output_type": "stream",
     "text": [
      "Enter number is  10\n",
      "The sum of the natural number is: 55\n"
     ]
    }
   ],
   "source": [
    "#Find the Sum of Natural Numbers\n",
    "\n",
    "n  = int(input(\"Enter a number\"))\n",
    "print(\"Enter number is \", n)\n",
    "\n",
    "if n<0:\n",
    "    print('Please enter a positive number:')\n",
    "\n",
    "else:\n",
    "    i = 1\n",
    "    sum  =0 \n",
    "    while i<=n:\n",
    "        sum = sum+i\n",
    "        i = i+1\n",
    "    print(\"The sum of the natural number is:\",sum)"
   ]
  }
 ],
 "metadata": {
  "kernelspec": {
   "display_name": "base",
   "language": "python",
   "name": "python3"
  },
  "language_info": {
   "codemirror_mode": {
    "name": "ipython",
    "version": 3
   },
   "file_extension": ".py",
   "mimetype": "text/x-python",
   "name": "python",
   "nbconvert_exporter": "python",
   "pygments_lexer": "ipython3",
   "version": "3.9.12"
  },
  "orig_nbformat": 4,
  "vscode": {
   "interpreter": {
    "hash": "af79917f6093fffae643ecfd291a66ebe68677a91178bb448d0312a39a22d008"
   }
  }
 },
 "nbformat": 4,
 "nbformat_minor": 2
}
